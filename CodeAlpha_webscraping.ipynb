{
 "cells": [
  {
   "cell_type": "code",
   "execution_count": 1,
   "id": "7764a34d-d389-4b66-9c66-a59c1424d5dc",
   "metadata": {},
   "outputs": [],
   "source": [
    "import requests\n",
    "from bs4 import BeautifulSoup\n",
    "import pandas as pd"
   ]
  },
  {
   "cell_type": "code",
   "execution_count": 7,
   "id": "034c2378-5d48-45d7-beac-355d672130f2",
   "metadata": {},
   "outputs": [
    {
     "name": "stdout",
     "output_type": "stream",
     "text": [
      "Scraping page 1...\n",
      "Scraping page 2...\n",
      "Scraping page 3...\n"
     ]
    }
   ],
   "source": [
    "base_url = \"http://books.toscrape.com/catalogue/page-{}.html\"\n",
    "\n",
    "# Creating empty lists to store data\n",
    "titles = []\n",
    "prices = []\n",
    "ratings = []\n",
    "\n",
    "# Loop through multiple pages \n",
    "for page in range(1, 4):\n",
    "    print(f\"Scraping page {page}...\")\n",
    "    \n",
    "    # Getting the page content\n",
    "    url = base_url.format(page)\n",
    "    response = requests.get(url)\n",
    "    soup = BeautifulSoup(response.text, \"html.parser\")\n",
    "    \n",
    "    # Finding all book containers\n",
    "    books = soup.find_all(\"article\", class_=\"product_pod\")\n",
    "    \n",
    "    # Extracting details for each book\n",
    "    for book in books:\n",
    "        title = book.h3.a[\"title\"]\n",
    "        price = book.find(\"p\", class_=\"price_color\").text\n",
    "        rating = book.p[\"class\"][1]  # e.g., \"Three\", \"Four\", etc.\n",
    "        \n",
    "        titles.append(title)\n",
    "        prices.append(price)\n",
    "        ratings.append(rating)"
   ]
  },
  {
   "cell_type": "code",
   "execution_count": 3,
   "id": "7d84c3f1-ad51-4030-9484-c19561d9bd6a",
   "metadata": {},
   "outputs": [
    {
     "data": {
      "text/html": [
       "<div>\n",
       "<style scoped>\n",
       "    .dataframe tbody tr th:only-of-type {\n",
       "        vertical-align: middle;\n",
       "    }\n",
       "\n",
       "    .dataframe tbody tr th {\n",
       "        vertical-align: top;\n",
       "    }\n",
       "\n",
       "    .dataframe thead th {\n",
       "        text-align: right;\n",
       "    }\n",
       "</style>\n",
       "<table border=\"1\" class=\"dataframe\">\n",
       "  <thead>\n",
       "    <tr style=\"text-align: right;\">\n",
       "      <th></th>\n",
       "      <th>Title</th>\n",
       "      <th>Price</th>\n",
       "      <th>Rating</th>\n",
       "    </tr>\n",
       "  </thead>\n",
       "  <tbody>\n",
       "    <tr>\n",
       "      <th>0</th>\n",
       "      <td>A Light in the Attic</td>\n",
       "      <td>Â£51.77</td>\n",
       "      <td>Three</td>\n",
       "    </tr>\n",
       "    <tr>\n",
       "      <th>1</th>\n",
       "      <td>Tipping the Velvet</td>\n",
       "      <td>Â£53.74</td>\n",
       "      <td>One</td>\n",
       "    </tr>\n",
       "    <tr>\n",
       "      <th>2</th>\n",
       "      <td>Soumission</td>\n",
       "      <td>Â£50.10</td>\n",
       "      <td>One</td>\n",
       "    </tr>\n",
       "    <tr>\n",
       "      <th>3</th>\n",
       "      <td>Sharp Objects</td>\n",
       "      <td>Â£47.82</td>\n",
       "      <td>Four</td>\n",
       "    </tr>\n",
       "    <tr>\n",
       "      <th>4</th>\n",
       "      <td>Sapiens: A Brief History of Humankind</td>\n",
       "      <td>Â£54.23</td>\n",
       "      <td>Five</td>\n",
       "    </tr>\n",
       "  </tbody>\n",
       "</table>\n",
       "</div>"
      ],
      "text/plain": [
       "                                   Title    Price Rating\n",
       "0                   A Light in the Attic  Â£51.77  Three\n",
       "1                     Tipping the Velvet  Â£53.74    One\n",
       "2                             Soumission  Â£50.10    One\n",
       "3                          Sharp Objects  Â£47.82   Four\n",
       "4  Sapiens: A Brief History of Humankind  Â£54.23   Five"
      ]
     },
     "execution_count": 3,
     "metadata": {},
     "output_type": "execute_result"
    }
   ],
   "source": [
    "# Convert to DataFrame\n",
    "books_df = pd.DataFrame({\n",
    "    \"Title\": titles,\n",
    "    \"Price\": prices,\n",
    "    \"Rating\": ratings\n",
    "})\n",
    "\n",
    "# Show the first few rows\n",
    "books_df.head()"
   ]
  },
  {
   "cell_type": "code",
   "execution_count": 4,
   "id": "60497a52-2ddd-48c1-8f0f-a57eedff8d90",
   "metadata": {},
   "outputs": [
    {
     "name": "stdout",
     "output_type": "stream",
     "text": [
      " Dataset saved as 'books_dataset.csv'\n"
     ]
    }
   ],
   "source": [
    "books_df.to_csv(\"books_dataset.csv\", index=False)\n",
    "print(\" Dataset saved as 'books_dataset.csv'\")"
   ]
  },
  {
   "cell_type": "code",
   "execution_count": 5,
   "id": "02fbf471-5d8b-4399-a215-d61a33b376e9",
   "metadata": {},
   "outputs": [
    {
     "name": "stdout",
     "output_type": "stream",
     "text": [
      "                                                Title    Price Rating\n",
      "0                                A Light in the Attic  Â£51.77  Three\n",
      "1                                  Tipping the Velvet  Â£53.74    One\n",
      "2                                          Soumission  Â£50.10    One\n",
      "3                                       Sharp Objects  Â£47.82   Four\n",
      "4               Sapiens: A Brief History of Humankind  Â£54.23   Five\n",
      "5                                     The Requiem Red  Â£22.65    One\n",
      "6   The Dirty Little Secrets of Getting Your Dream...  Â£33.34   Four\n",
      "7   The Coming Woman: A Novel Based on the Life of...  Â£17.93  Three\n",
      "8   The Boys in the Boat: Nine Americans and Their...  Â£22.60   Four\n",
      "9                                     The Black Maria  Â£52.15    One\n",
      "10     Starving Hearts (Triangular Trade Trilogy, #1)  Â£13.99    Two\n",
      "11                              Shakespeare's Sonnets  Â£20.66   Four\n",
      "12                                        Set Me Free  Â£17.46   Five\n",
      "13  Scott Pilgrim's Precious Little Life (Scott Pi...  Â£52.29   Five\n",
      "14                          Rip it Up and Start Again  Â£35.02   Five\n",
      "15  Our Band Could Be Your Life: Scenes from the A...  Â£57.25  Three\n",
      "16                                               Olio  Â£23.88    One\n",
      "17  Mesaerion: The Best Science Fiction Stories 18...  Â£37.59    One\n",
      "18                       Libertarianism for Beginners  Â£51.33    Two\n",
      "19                            It's Only the Himalayas  Â£45.17    Two\n",
      "20                                        In Her Wake  Â£12.84    One\n",
      "21                                    How Music Works  Â£37.32    Two\n",
      "22  Foolproof Preserving: A Guide to Small Batch J...  Â£30.52  Three\n",
      "23                         Chase Me (Paris Nights #2)  Â£25.27   Five\n",
      "24                                         Black Dust  Â£34.53   Five\n",
      "25                      Birdsong: A Story in Pictures  Â£54.64  Three\n",
      "26  America's Cradle of Quarterbacks: Western Penn...  Â£22.50  Three\n",
      "27                     Aladdin and His Wonderful Lamp  Â£53.13  Three\n",
      "28  Worlds Elsewhere: Journeys Around Shakespeareâ...  Â£40.30   Five\n",
      "29                                     Wall and Piece  Â£44.18   Four\n",
      "30  The Four Agreements: A Practical Guide to Pers...  Â£17.66   Five\n",
      "31  The Five Love Languages: How to Express Heartf...  Â£31.05  Three\n",
      "32                                  The Elephant Tree  Â£23.82   Five\n",
      "33                             The Bear and the Piano  Â£36.89    One\n",
      "34                                     Sophie's World  Â£15.94   Five\n",
      "35                                        Penny Maybe  Â£33.29  Three\n",
      "36     Maude (1883-1993):She Grew Up with the country  Â£18.02    Two\n",
      "37                               In a Dark, Dark Wood  Â£19.63    One\n",
      "38                                Behind Closed Doors  Â£52.22   Four\n",
      "39                     You can't bury them all: Poems  Â£33.63    Two\n",
      "40                     Slow States of Collapse: Poems  Â£57.31  Three\n",
      "41                              Reasons to Stay Alive  Â£26.41    Two\n",
      "42                        Private Paris (Private #10)  Â£47.61   Five\n",
      "43  #HigherSelfie: Wake Up Your Life. Free Your So...  Â£23.11   Five\n",
      "44                    Without Borders (Wanderlove #1)  Â£45.07    Two\n",
      "45                                   When We Collided  Â£31.77    One\n",
      "46                       We Love You, Charlie Freeman  Â£50.27   Five\n",
      "47            Untitled Collection: Sabbath Poems 2014  Â£14.27   Four\n",
      "48  Unseen City: The Majesty of Pigeons, the Discr...  Â£44.18   Four\n",
      "49                                     Unicorn Tracks  Â£18.78  Three\n",
      "50  Unbound: How Eight Technologies Made Us Human,...  Â£25.52    One\n",
      "51  Tsubasa: WoRLD CHRoNiCLE 2 (Tsubasa WoRLD CHRo...  Â£16.28    One\n",
      "52  Throwing Rocks at the Google Bus: How Growth B...  Â£31.12  Three\n",
      "53                                    This One Summer  Â£19.49   Four\n",
      "54                                             Thirst  Â£17.27   Five\n",
      "55        The Torch Is Passed: A Harding Family Story  Â£19.09    One\n",
      "56                    The Secret of Dreadwillow Carse  Â£56.13    One\n",
      "57  The Pioneer Woman Cooks: Dinnertime: Comfort C...  Â£56.41    One\n",
      "58                                The Past Never Ends  Â£56.50   Four\n",
      "59  The Natural History of Us (The Fine Art of Pre...  Â£45.22  Three\n"
     ]
    }
   ],
   "source": [
    "df=pd.read_csv(\"books_dataset.csv\")\n",
    "print(df)"
   ]
  },
  {
   "cell_type": "code",
   "execution_count": null,
   "id": "dd81d277-0af9-4e3f-b121-af6ef51244d8",
   "metadata": {},
   "outputs": [],
   "source": []
  }
 ],
 "metadata": {
  "kernelspec": {
   "display_name": "Python 3 (ipykernel)",
   "language": "python",
   "name": "python3"
  },
  "language_info": {
   "codemirror_mode": {
    "name": "ipython",
    "version": 3
   },
   "file_extension": ".py",
   "mimetype": "text/x-python",
   "name": "python",
   "nbconvert_exporter": "python",
   "pygments_lexer": "ipython3",
   "version": "3.12.7"
  }
 },
 "nbformat": 4,
 "nbformat_minor": 5
}
